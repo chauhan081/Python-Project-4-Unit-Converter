{
 "cells": [
  {
   "cell_type": "code",
   "execution_count": null,
   "id": "745b2c49-c5e4-48b7-b57c-dfe109fcabae",
   "metadata": {},
   "outputs": [
    {
     "name": "stdout",
     "output_type": "stream",
     "text": [
      "🌍 Unit Converter\n",
      "1. Kilometers to Miles\n",
      "2. Miles to Kilometers\n",
      "3. Celsius to Fahrenheit\n",
      "4. Fahrenheit to Celsius\n"
     ]
    }
   ],
   "source": [
    "def km_to_miles(km):\n",
    "    return km * 0.621371\n",
    "\n",
    "def miles_to_km(miles):\n",
    "    return miles / 0.621371\n",
    "\n",
    "def c_to_f(celsius):\n",
    "    return (celsius * 9/5) + 32\n",
    "\n",
    "def f_to_c(fahrenheit):\n",
    "    return (fahrenheit - 32) * 5/9\n",
    "\n",
    "print(\"🌍 Unit Converter\")\n",
    "print(\"1. Kilometers to Miles\")\n",
    "print(\"2. Miles to Kilometers\")\n",
    "print(\"3. Celsius to Fahrenheit\")\n",
    "print(\"4. Fahrenheit to Celsius\")\n",
    "\n",
    "choice = input(\"Choose conversion (1-4): \")\n",
    "\n",
    "try:\n",
    "    if choice == '1':\n",
    "        km = float(input(\"Enter kilometers: \"))\n",
    "        print(f\"{km} km = {km_to_miles(km):.2f} miles\")\n",
    "    elif choice == '2':\n",
    "        miles = float(input(\"Enter miles: \"))\n",
    "        print(f\"{miles} miles = {miles_to_km(miles):.2f} km\")\n",
    "    elif choice == '3':\n",
    "        c = float(input(\"Enter Celsius: \"))\n",
    "        print(f\"{c}°C = {c_to_f(c):.2f}°F\")\n",
    "    elif choice == '4':\n",
    "        f = float(input(\"Enter Fahrenheit: \"))\n",
    "        print(f\"{f}°F = {f_to_c(f):.2f}°C\")\n",
    "    else:\n",
    "        print(\"❌ Invalid choice.\")\n",
    "except ValueError:\n",
    "             print(\"❌ Please enter a valid number.\")"
   ]
  },
  {
   "cell_type": "code",
   "execution_count": null,
   "id": "3c303fa5-e758-43ec-8c72-06999742cacb",
   "metadata": {},
   "outputs": [],
   "source": []
  }
 ],
 "metadata": {
  "kernelspec": {
   "display_name": "Python 3 (ipykernel)",
   "language": "python",
   "name": "python3"
  },
  "language_info": {
   "codemirror_mode": {
    "name": "ipython",
    "version": 3
   },
   "file_extension": ".py",
   "mimetype": "text/x-python",
   "name": "python",
   "nbconvert_exporter": "python",
   "pygments_lexer": "ipython3",
   "version": "3.13.5"
  }
 },
 "nbformat": 4,
 "nbformat_minor": 5
}
